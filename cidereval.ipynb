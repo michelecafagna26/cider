{
 "cells": [
  {
   "cell_type": "code",
   "execution_count": 10,
   "metadata": {},
   "outputs": [],
   "source": [
    "from cidereval import CiderD, Cider\n",
    "from cidereval.tokenizer import SimpleTokenizer\n",
    "from cidereval.tokenizer import PTBTokenizer"
   ]
  },
  {
   "cell_type": "code",
   "execution_count": 11,
   "metadata": {},
   "outputs": [],
   "source": [
    "# demo script for running CIDEr\n",
    "import time\n",
    "import pdb\n",
    "import json\n",
    "from collections import defaultdict\n",
    "\n",
    "from dataformat.loadData import LoadData\n",
    "from cidereval.eval import CIDErEvalCap as ciderEval\n",
    "\n",
    "pathToData = './data/'\n",
    "\n",
    "refName = 'pascal50S.json'\n",
    "candName = 'pascal_candsB.json'\n",
    "\n",
    "result_file = 'results.json'"
   ]
  },
  {
   "cell_type": "code",
   "execution_count": 3,
   "metadata": {},
   "outputs": [],
   "source": [
    "# load reference and candidate sentences\n",
    "loadDat = LoadData(pathToData)\n",
    "gts, res = loadDat.readJson(refName, candName)\n",
    "\n",
    "#res = res[:100]\n",
    "#gts = {img['image_id']: gts[img['image_id']] for img in res}"
   ]
  },
  {
   "cell_type": "code",
   "execution_count": 12,
   "metadata": {},
   "outputs": [],
   "source": [
    "tokenizer_old = PTBTokenizer('res')\n",
    "_res_old = tokenizer_old.tokenize(res)"
   ]
  },
  {
   "cell_type": "code",
   "execution_count": null,
   "metadata": {},
   "outputs": [],
   "source": [
    "tokenizer = SimpleTokenizer('res')\n",
    "_res = tokenizer.tokenize(res)"
   ]
  },
  {
   "cell_type": "markdown",
   "metadata": {},
   "source": [
    "for item, item_old in zip(_res, _res_old):\n",
    "    if item['caption'][0] != item['caption'][0]:\n",
    "        print(f\"{item['caption'][0]} --> {item['caption'][0]}\")"
   ]
  },
  {
   "cell_type": "code",
   "execution_count": null,
   "metadata": {},
   "outputs": [],
   "source": [
    "\n",
    "start_time = time.time()\n",
    "tokenizer = SimpleTokenizer('gts')\n",
    "_gts = tokenizer.tokenize(gts)\n",
    "\n",
    "print(\"Spacy took: --- %s seconds ---\" % (time.time() - start_time))"
   ]
  },
  {
   "cell_type": "code",
   "execution_count": null,
   "metadata": {},
   "outputs": [],
   "source": [
    "start_time = time.time()\n",
    "tokenizer_old = PTBTokenizer('gts')\n",
    "_gts_old = tokenizer_old.tokenize(gts)\n",
    "\n",
    "print(\"PTBTokenizer took: --- %s seconds ---\" % (time.time() - start_time))"
   ]
  },
  {
   "cell_type": "markdown",
   "metadata": {},
   "source": [
    "for k in gts:\n",
    "    for cap, cap_old in zip(_gts[k], _gts_old[k]):\n",
    "        if cap != cap_old:\n",
    "            print(f\"{cap} -> {cap_old}\")\n",
    "        "
   ]
  },
  {
   "cell_type": "code",
   "execution_count": null,
   "metadata": {},
   "outputs": [],
   "source": [
    "scorer = Cider(df='coco-val')\n",
    "scorerD = CiderD(df='coco-val')"
   ]
  },
  {
   "cell_type": "code",
   "execution_count": null,
   "metadata": {},
   "outputs": [],
   "source": [
    "score, scores = scorer.compute_score(_gts_old, _res_old)\n",
    "scoreD, scoresD = scorerD.compute_score(_gts_old, _res_old)\n",
    "print(score)\n",
    "print(scoreD)"
   ]
  },
  {
   "cell_type": "markdown",
   "metadata": {},
   "source": [
    "##  CiderD\n",
    "\n",
    "### df in corpus mode \n",
    "\n",
    "corpus: \n",
    "- refName = 'pascal50S.json'\n",
    "- candName = 'pascal_candsB.json'\n",
    "\n",
    "spacy tokenizer : 0.48387229928700376\n",
    "\n",
    "PTB tokenizer: 0.48439138950913807\n",
    "    \n",
    "**diff: 0.0005190902221343108**\n",
    "\n",
    "### df in coco-val mode \n",
    "\n",
    "PTB tokenizer = 0.4594128636973375\n",
    "\n",
    "spacy tokenizer = 0.45890712727870175\n",
    "\n",
    "\n",
    "**diff = 0.0005057364186357716**"
   ]
  },
  {
   "cell_type": "markdown",
   "metadata": {},
   "source": [
    "##  Cider\n",
    "\n",
    "### df in corpus mode \n",
    "\n",
    "corpus: \n",
    "- refName = 'pascal50S.json'\n",
    "- candName = 'pascal_candsB.json'\n",
    "\n",
    "spacy tokenizer : 0.5870925361541144\n",
    "PTB tokenizer: 0.5876485026978251\n",
    "    \n",
    "**diff: 0.0005559665437107064**\n",
    "\n",
    "### df in coco-val mode \n",
    "\n",
    "PTB tokenizer = 0.5580180601041953\n",
    "\n",
    "spacy tokenizer = 0.557550429560831\n",
    "\n",
    "abs(0.557550429560831-0.5580180601041953) \n",
    "\n",
    "**diff = 0.00046763054336429466**\n",
    "\n",
    "PTB Tokenizer does not tokenize :\n",
    " \n",
    " - word/word (slahes)\n",
    " - (word) (brackets) it returns something like -lrb-\n",
    " \n",
    " Spacy does it"
   ]
  }
 ],
 "metadata": {
  "kernelspec": {
   "display_name": "Python 3",
   "language": "python",
   "name": "python3"
  },
  "language_info": {
   "codemirror_mode": {
    "name": "ipython",
    "version": 3
   },
   "file_extension": ".py",
   "mimetype": "text/x-python",
   "name": "python",
   "nbconvert_exporter": "python",
   "pygments_lexer": "ipython3",
   "version": "3.6.9"
  }
 },
 "nbformat": 4,
 "nbformat_minor": 1
}
