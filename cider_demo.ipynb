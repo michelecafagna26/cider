{
  "nbformat": 4,
  "nbformat_minor": 0,
  "metadata": {
    "colab": {
      "name": "cider_demo.ipynb",
      "provenance": [],
      "authorship_tag": "ABX9TyMT4TNjFKKrEMcMc0uZ6Ubr",
      "include_colab_link": true
    },
    "kernelspec": {
      "name": "python3",
      "display_name": "Python 3"
    },
    "language_info": {
      "name": "python"
    }
  },
  "cells": [
    {
      "cell_type": "markdown",
      "metadata": {
        "id": "view-in-github",
        "colab_type": "text"
      },
      "source": [
        "<a href=\"https://colab.research.google.com/github/michelecafagna26/cider/blob/master/cider_demo.ipynb\" target=\"_parent\"><img src=\"https://colab.research.google.com/assets/colab-badge.svg\" alt=\"Open In Colab\"/></a>"
      ]
    },
    {
      "cell_type": "markdown",
      "source": [
        "# Install"
      ],
      "metadata": {
        "id": "GWTmEvA9jNbE"
      }
    },
    {
      "cell_type": "code",
      "execution_count": 2,
      "metadata": {
        "colab": {
          "base_uri": "https://localhost:8080/"
        },
        "id": "AeLUPV23cglP",
        "outputId": "61e4fef5-0481-4c41-ee8a-0e8073f0d3e1"
      },
      "outputs": [
        {
          "output_type": "stream",
          "name": "stdout",
          "text": [
            "Looking in indexes: https://pypi.org/simple, https://us-python.pkg.dev/colab-wheels/public/simple/\n",
            "Collecting cidereval\n",
            "  Cloning https://github.com/michelecafagna26/cider.git to /tmp/pip-install-jxsf8s6w/cidereval_96d4e984785d4aecb152d6af36d89aaf\n",
            "  Running command git clone -q https://github.com/michelecafagna26/cider.git /tmp/pip-install-jxsf8s6w/cidereval_96d4e984785d4aecb152d6af36d89aaf\n",
            "  Installing build dependencies ... \u001b[?25l\u001b[?25hdone\n",
            "  Getting requirements to build wheel ... \u001b[?25l\u001b[?25hdone\n",
            "    Preparing wheel metadata ... \u001b[?25l\u001b[?25hdone\n",
            "Requirement already satisfied: importlib-resources==5.4.0 in /usr/local/lib/python3.7/dist-packages (from cidereval) (5.4.0)\n",
            "Requirement already satisfied: spacy==3.1.4 in /usr/local/lib/python3.7/dist-packages (from cidereval) (3.1.4)\n",
            "Requirement already satisfied: zipp>=3.1.0 in /usr/local/lib/python3.7/dist-packages (from importlib-resources==5.4.0->cidereval) (3.8.0)\n",
            "Requirement already satisfied: preshed<3.1.0,>=3.0.2 in /usr/local/lib/python3.7/dist-packages (from spacy==3.1.4->cidereval) (3.0.6)\n",
            "Requirement already satisfied: murmurhash<1.1.0,>=0.28.0 in /usr/local/lib/python3.7/dist-packages (from spacy==3.1.4->cidereval) (1.0.7)\n",
            "Requirement already satisfied: srsly<3.0.0,>=2.4.1 in /usr/local/lib/python3.7/dist-packages (from spacy==3.1.4->cidereval) (2.4.3)\n",
            "Requirement already satisfied: wasabi<1.1.0,>=0.8.1 in /usr/local/lib/python3.7/dist-packages (from spacy==3.1.4->cidereval) (0.9.1)\n",
            "Requirement already satisfied: tqdm<5.0.0,>=4.38.0 in /usr/local/lib/python3.7/dist-packages (from spacy==3.1.4->cidereval) (4.64.0)\n",
            "Requirement already satisfied: pathy>=0.3.5 in /usr/local/lib/python3.7/dist-packages (from spacy==3.1.4->cidereval) (0.6.2)\n",
            "Requirement already satisfied: blis<0.8.0,>=0.4.0 in /usr/local/lib/python3.7/dist-packages (from spacy==3.1.4->cidereval) (0.7.8)\n",
            "Requirement already satisfied: jinja2 in /usr/local/lib/python3.7/dist-packages (from spacy==3.1.4->cidereval) (2.11.3)\n",
            "Requirement already satisfied: requests<3.0.0,>=2.13.0 in /usr/local/lib/python3.7/dist-packages (from spacy==3.1.4->cidereval) (2.23.0)\n",
            "Requirement already satisfied: setuptools in /usr/local/lib/python3.7/dist-packages (from spacy==3.1.4->cidereval) (57.4.0)\n",
            "Requirement already satisfied: catalogue<2.1.0,>=2.0.6 in /usr/local/lib/python3.7/dist-packages (from spacy==3.1.4->cidereval) (2.0.7)\n",
            "Requirement already satisfied: cymem<2.1.0,>=2.0.2 in /usr/local/lib/python3.7/dist-packages (from spacy==3.1.4->cidereval) (2.0.6)\n",
            "Requirement already satisfied: typing-extensions<4.0.0.0,>=3.7.4 in /usr/local/lib/python3.7/dist-packages (from spacy==3.1.4->cidereval) (3.10.0.2)\n",
            "Requirement already satisfied: thinc<8.1.0,>=8.0.12 in /usr/local/lib/python3.7/dist-packages (from spacy==3.1.4->cidereval) (8.0.17)\n",
            "Requirement already satisfied: numpy>=1.15.0 in /usr/local/lib/python3.7/dist-packages (from spacy==3.1.4->cidereval) (1.21.6)\n",
            "Requirement already satisfied: typer<0.5.0,>=0.3.0 in /usr/local/lib/python3.7/dist-packages (from spacy==3.1.4->cidereval) (0.4.2)\n",
            "Requirement already satisfied: pydantic!=1.8,!=1.8.1,<1.9.0,>=1.7.4 in /usr/local/lib/python3.7/dist-packages (from spacy==3.1.4->cidereval) (1.8.2)\n",
            "Requirement already satisfied: spacy-legacy<3.1.0,>=3.0.8 in /usr/local/lib/python3.7/dist-packages (from spacy==3.1.4->cidereval) (3.0.9)\n",
            "Requirement already satisfied: packaging>=20.0 in /usr/local/lib/python3.7/dist-packages (from spacy==3.1.4->cidereval) (21.3)\n",
            "Requirement already satisfied: pyparsing!=3.0.5,>=2.0.2 in /usr/local/lib/python3.7/dist-packages (from packaging>=20.0->spacy==3.1.4->cidereval) (3.0.9)\n",
            "Requirement already satisfied: smart-open<6.0.0,>=5.2.1 in /usr/local/lib/python3.7/dist-packages (from pathy>=0.3.5->spacy==3.1.4->cidereval) (5.2.1)\n",
            "Requirement already satisfied: urllib3!=1.25.0,!=1.25.1,<1.26,>=1.21.1 in /usr/local/lib/python3.7/dist-packages (from requests<3.0.0,>=2.13.0->spacy==3.1.4->cidereval) (1.24.3)\n",
            "Requirement already satisfied: idna<3,>=2.5 in /usr/local/lib/python3.7/dist-packages (from requests<3.0.0,>=2.13.0->spacy==3.1.4->cidereval) (2.10)\n",
            "Requirement already satisfied: certifi>=2017.4.17 in /usr/local/lib/python3.7/dist-packages (from requests<3.0.0,>=2.13.0->spacy==3.1.4->cidereval) (2022.6.15)\n",
            "Requirement already satisfied: chardet<4,>=3.0.2 in /usr/local/lib/python3.7/dist-packages (from requests<3.0.0,>=2.13.0->spacy==3.1.4->cidereval) (3.0.4)\n",
            "Requirement already satisfied: click<9.0.0,>=7.1.1 in /usr/local/lib/python3.7/dist-packages (from typer<0.5.0,>=0.3.0->spacy==3.1.4->cidereval) (7.1.2)\n",
            "Requirement already satisfied: MarkupSafe>=0.23 in /usr/local/lib/python3.7/dist-packages (from jinja2->spacy==3.1.4->cidereval) (2.0.1)\n"
          ]
        }
      ],
      "source": [
        "pip install git+https://github.com/michelecafagna26/cider.git#egg=cidereval"
      ]
    },
    {
      "cell_type": "markdown",
      "source": [
        "Ready to go!"
      ],
      "metadata": {
        "id": "RF9-uATHjSJT"
      }
    },
    {
      "cell_type": "code",
      "source": [
        "from cidereval import cider, ciderD"
      ],
      "metadata": {
        "id": "UvK_ACyMeqDD"
      },
      "execution_count": 3,
      "outputs": []
    },
    {
      "cell_type": "code",
      "source": [
        "# list of lists (the more the references thae better)\n",
        "refs = [ [\"a shirtless man walking a bike down a rural street.\",\n",
        "          \"a person walking pulling a bike next to him\",\n",
        "          \"shirtless man pushing his bike on a city street.\",\n",
        "          \"this gentleman is shirtless, walking his bicycle down the street of an asian city.\",\n",
        "          \"a shirtless man walking down city street with a bike\"],\n",
        "        [\"guy up in the air doing a skateboard trick!\",\n",
        "          \"a person doing a skateboard flip as another watches.\",\n",
        "          \"a person jumping a skate board up a curb while a boy watches while sitting on a bike.\",\n",
        "          \"there is a skate boarder that is doing a trick in the air\",\n",
        "          \"a person doing tricks on a skateboard while a man on a bicycle watches.\"]\n",
        "        ]\n",
        "\n",
        "# list of predictions\n",
        "preds = [\"a man waling in the street\", \"a guy skating\"]"
      ],
      "metadata": {
        "id": "QVHvbzgugq6D"
      },
      "execution_count": 4,
      "outputs": []
    },
    {
      "cell_type": "code",
      "source": [
        "cider_scores = cider(refs, preds, df=\"corpus\")"
      ],
      "metadata": {
        "id": "iNQ6rHuXetIb"
      },
      "execution_count": 5,
      "outputs": []
    },
    {
      "cell_type": "code",
      "source": [
        "cider_scores"
      ],
      "metadata": {
        "colab": {
          "base_uri": "https://localhost:8080/"
        },
        "id": "gqLlTaKyhhqz",
        "outputId": "fd926afb-ade3-4f9f-871d-31e2a128b962"
      },
      "execution_count": 6,
      "outputs": [
        {
          "output_type": "execute_result",
          "data": {
            "text/plain": [
              "{'avg_score': 0.3293684180867922, 'scores': array([0.52510622, 0.13363062])}"
            ]
          },
          "metadata": {},
          "execution_count": 6
        }
      ]
    }
  ]
}